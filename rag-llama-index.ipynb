{
 "cells": [
  {
   "cell_type": "code",
   "execution_count": 1,
   "id": "05844f89-c5ae-4084-ad76-033663079d41",
   "metadata": {},
   "outputs": [],
   "source": [
    "import os\n",
    "import json\n",
    "from tqdm import tqdm\n",
    "import pandas as pd"
   ]
  },
  {
   "cell_type": "markdown",
   "id": "06d7ffd7-1c09-4443-98b9-ce5961a3e9d9",
   "metadata": {},
   "source": [
    "### Read Data"
   ]
  },
  {
   "cell_type": "code",
   "execution_count": 2,
   "id": "368674f2-56cf-413d-a035-849720c942cf",
   "metadata": {},
   "outputs": [],
   "source": [
    "data = pd.read_excel(\"IPL24_All_Matches_Dataset.xlsx\")"
   ]
  },
  {
   "cell_type": "code",
   "execution_count": 3,
   "id": "bbbdf22b-f2fa-422b-9438-8b7220be118c",
   "metadata": {},
   "outputs": [
    {
     "data": {
      "text/plain": [
       "Index(['matchID', 'matchNo', 'match', 'homeTeam', 'currentInning', 'inningID',\n",
       "       'over', 'runningOver', 'runs', 'batsmanRuns', 'batsmanBall',\n",
       "       'bowlerRuns', 'shortText', 'batsmanPlayerID', 'batsmanName',\n",
       "       'bowlerPlayerID', 'bowlerName', 'isBoundary', 'isWide', 'isNoBall',\n",
       "       'isLegBye', 'isBye', 'isWicket', 'isBowlerWicket', 'wicketText',\n",
       "       'wktBatsmanName', 'wktBowlerName', 'wktBatsmanRuns', 'wktbatsmanBalls',\n",
       "       'commentary'],\n",
       "      dtype='object')"
      ]
     },
     "execution_count": 3,
     "metadata": {},
     "output_type": "execute_result"
    }
   ],
   "source": [
    "data.columns"
   ]
  },
  {
   "cell_type": "code",
   "execution_count": 4,
   "id": "c98a582d-759e-4201-b1aa-c91cde30b83e",
   "metadata": {},
   "outputs": [],
   "source": [
    "data['batsmanCurrentScore'] = data.groupby(['matchID', 'inningID', 'batsmanPlayerID'])['batsmanRuns'].cumsum()\n",
    "data['batsmanBallsFaced'] = data.groupby(['matchID', 'inningID', 'batsmanPlayerID'])['batsmanBall'].cumsum()\n",
    "data['bowlerCurrentRuns'] = data.groupby(['matchID', 'inningID', 'bowlerPlayerID'])['bowlerRuns'].cumsum()"
   ]
  },
  {
   "cell_type": "code",
   "execution_count": 5,
   "id": "56fb73a1-71fa-471f-9b4f-5becc06f128e",
   "metadata": {},
   "outputs": [],
   "source": [
    "data['wicketText'] = data.wicketText.fillna('No Wicket')\n",
    "data = data.fillna('None')"
   ]
  },
  {
   "cell_type": "markdown",
   "id": "06e88fab-4e92-4fc0-ad9b-da5db811b981",
   "metadata": {},
   "source": [
    "### Create Document for the RAG"
   ]
  },
  {
   "cell_type": "code",
   "execution_count": 6,
   "id": "d5742b08-f27f-40b3-aa15-2465eecc00ee",
   "metadata": {},
   "outputs": [],
   "source": [
    "from llama_index.core import Document"
   ]
  },
  {
   "cell_type": "code",
   "execution_count": 7,
   "id": "7d9e2827-1330-46de-8001-593bda58d5f9",
   "metadata": {},
   "outputs": [
    {
     "name": "stdout",
     "output_type": "stream",
     "text": [
      "Created 17103 documents\n"
     ]
    }
   ],
   "source": [
    "#For every ball document is created and rich metadata is added\n",
    "documents = []\n",
    "data = data.sort_values(['matchID', 'inningID', 'over', 'runningOver'])\n",
    "list_of_events = data.to_dict(orient='records')\n",
    "for row in list_of_events:\n",
    "    #create metadata\n",
    "    if row['runningOver'] < 6:\n",
    "        phase = 'Powerplay'\n",
    "    elif row['runningOver'] < 16:\n",
    "        phase = 'Middle Overs'\n",
    "    else:\n",
    "        phase = 'Death'\n",
    "\n",
    "    teams = row['match'].split(\"vs\")\n",
    "    team1 = teams[0].strip()\n",
    "    team2 = teams[1].strip()\n",
    "    metadata = {\n",
    "        \"match_d\": row['matchID'],\n",
    "        \"match_number\": row['matchNo'],\n",
    "        \"teams\": row['match'],\n",
    "        \"home_team\": row['homeTeam'],\n",
    "        \"batting_team\": row[\"currentInning\"],\n",
    "        \"bowling_team\": list(set([team1, team2]) - set(row[\"currentInning\"]))[0],\n",
    "        \"innings\": row[\"inningID\"],\n",
    "        \"phase\": phase,\n",
    "        \"Over\": row['runningOver'],\n",
    "        \"ball\": f\"{row['over']}\",\n",
    "        \"wide\": int(row['isWide']),\n",
    "        \"noball\": int(row['isNoBall']),\n",
    "        \"legbye\": int(row['isLegBye']),\n",
    "        \"bye\": int(row['isBye']),\n",
    "        \"boundary\": int(row['isBoundary']),\n",
    "        \"is_wicket\": int(row['isWicket']),\n",
    "        \"batsman\": row['batsmanName'],               \n",
    "        \"bowler\": row['bowlerName'],\n",
    "    }\n",
    "\n",
    "    #content\n",
    "    content_parts = [\n",
    "        f\"Running Over: {row[\"runningOver\"]}\", \n",
    "        f\"Ball {row['over']}: {row['shortText']}\",\n",
    "        f\"Commentary: {row['commentary']}\",\n",
    "        f\"{row['batsmanName']}: scores {row['batsmanRuns']} runs\",\n",
    "        f\"{row['bowlerName']}: concedes {row['bowlerRuns']} runs\",\n",
    "        f\"Wicket: {row['wicketText']}\"\n",
    "    ]\n",
    "    content = \"/n\".join(content_parts)\n",
    "\n",
    "    doc = Document(\n",
    "            text=content,\n",
    "            metadata=metadata,\n",
    "          )\n",
    "    documents.append(doc)\n",
    "\n",
    "        \n",
    "print(f\"Created {len(documents)} documents\")"
   ]
  },
  {
   "cell_type": "code",
   "execution_count": 8,
   "id": "754565c5-c252-4b79-945f-5d8c28cc9603",
   "metadata": {},
   "outputs": [
    {
     "data": {
      "text/plain": [
       "Document(id_='0a07a483-650a-48e4-98a6-b54754f6177a', embedding=None, metadata={'match_d': 1422119, 'match_number': '1st Match', 'teams': 'Royal Challengers Bengaluru vs Chennai Super Kings', 'home_team': 'Chennai Super Kings', 'batting_team': 'Royal Challengers Bengaluru', 'bowling_team': 'Chennai Super Kings', 'innings': 1, 'phase': 'Powerplay', 'Over': 1, 'ball': '0.1', 'wide': 1, 'noball': 0, 'legbye': 0, 'bye': 0, 'boundary': 0, 'is_wicket': 0, 'batsman': 'Virat Kohli', 'bowler': 'Deepak Chahar'}, excluded_embed_metadata_keys=[], excluded_llm_metadata_keys=[], relationships={}, metadata_template='{key}: {value}', metadata_separator='\\n', text_resource=MediaResource(embeddings=None, data=None, text='Running Over: 1/nBall 0.1: Chahar to Kohli, 1 wide/nCommentary: there is swing and good carry, but it has been called a wide after Kohli leaves it alone. Just does too much/nVirat Kohli: scores 0 runs/nDeepak Chahar: concedes 1 runs/nWicket: No Wicket', path=None, url=None, mimetype=None), image_resource=None, audio_resource=None, video_resource=None, text_template='{metadata_str}\\n\\n{content}')"
      ]
     },
     "execution_count": 8,
     "metadata": {},
     "output_type": "execute_result"
    }
   ],
   "source": [
    "documents[0]"
   ]
  },
  {
   "cell_type": "markdown",
   "id": "8f3fd881-1136-4bab-b669-e8e821943d0a",
   "metadata": {},
   "source": [
    "### Create Vector Index"
   ]
  },
  {
   "cell_type": "code",
   "execution_count": 9,
   "id": "d84ca078-e868-4e04-9ed8-3db6c6588f8c",
   "metadata": {},
   "outputs": [],
   "source": [
    "from llama_index.core.node_parser import SentenceSplitter\n",
    "from llama_index.vector_stores.chroma import ChromaVectorStore\n",
    "import chromadb\n",
    "from llama_index.core import StorageContext, VectorStoreIndex, Settings\n",
    "from llama_index.llms.gemini import Gemini\n",
    "from llama_index.embeddings.huggingface import HuggingFaceEmbedding"
   ]
  },
  {
   "cell_type": "code",
   "execution_count": 10,
   "id": "27a509be-ddc5-404d-9681-7b54e647df0a",
   "metadata": {},
   "outputs": [
    {
     "name": "stderr",
     "output_type": "stream",
     "text": [
      "/var/folders/bq/fcpht9x10wdfg3012jhl2zx1fxskt3/T/ipykernel_35789/658076360.py:5: DeprecationWarning: Call to deprecated class Gemini. (Should use `llama-index-llms-google-genai` instead, using Google's latest unified SDK. See: https://docs.llamaindex.ai/en/stable/examples/llm/google_genai/)\n",
      "  Settings.llm = Gemini(model=\"models/gemini-2.0-flash\", temperature=0.1)\n"
     ]
    }
   ],
   "source": [
    "# Get API key for Gemini (you'll need to get one from Google AI Studio)\n",
    "os.environ[\"GOOGLE_API_KEY\"] = \""\n",
    "\n",
    "# Configuration using Gemini and BGE embeddings\n",
    "Settings.llm = Gemini(model=\"models/gemini-2.0-flash\", temperature=0.1)\n",
    "Settings.embed_model = HuggingFaceEmbedding(\n",
    "    model_name=\"BAAI/bge-large-en-v1.5\",\n",
    "    embed_batch_size=16\n",
    ")\n",
    "Settings.chunk_size = 512\n",
    "Settings.chunk_overlap = 50"
   ]
  },
  {
   "cell_type": "code",
   "execution_count": 11,
   "id": "eff82a33-f7fc-4f1c-a82b-8912babfc887",
   "metadata": {},
   "outputs": [
    {
     "name": "stdout",
     "output_type": "stream",
     "text": [
      "17103 Nodes created for 17103\n"
     ]
    }
   ],
   "source": [
    "parser = SentenceSplitter(\n",
    "    chunk_size=512,\n",
    "    chunk_overlap=50,\n",
    ")\n",
    "nodes = parser.get_nodes_from_documents(documents)\n",
    "print(f\"{len(nodes)} Nodes created for {len(documents)}\")"
   ]
  },
  {
   "cell_type": "code",
   "execution_count": 12,
   "id": "f350e0b7-c250-44ec-a316-a8317dde7369",
   "metadata": {},
   "outputs": [],
   "source": [
    "#create storage context\n",
    "chroma_client = chromadb.PersistentClient(\"./chroma_db\")\n",
    "chroma_collection = chroma_client.get_or_create_collection(\"ipl_collection\")\n",
    "vector_store = ChromaVectorStore(chroma_collection=chroma_collection)\n",
    "storage_context = StorageContext.from_defaults(vector_store=vector_store)"
   ]
  },
  {
   "cell_type": "code",
   "execution_count": null,
   "id": "d1eddc17-8ca2-4ff2-989b-1f34c6887505",
   "metadata": {},
   "outputs": [],
   "source": [
    "#create vector index which uses embeddings from the settings defined\n",
    "vector_index = VectorStoreIndex(nodes, storage_context=storage_context)\n",
    "print(\"Index Created\")"
   ]
  },
  {
   "cell_type": "markdown",
   "id": "c8e60a63-8192-465a-b66f-a9188aa6a8e1",
   "metadata": {},
   "source": [
    "### Create  Query Engine"
   ]
  },
  {
   "cell_type": "code",
   "execution_count": null,
   "id": "6c504508-3b52-4f37-8350-fccee71c7676",
   "metadata": {},
   "outputs": [],
   "source": [
    "from llama_index.core.vector_stores import MetadataFilter, FilterOperator, FilterCondition\n",
    "from llama_index.core.vector_stores import MetadataFilters # Import this\n",
    "from llama_index.core.query_engine import RouterQueryEngine\n",
    "from llama_index.core.selectors import LLMMultiSelector, LLMSingleSelector\n",
    "from llama_index.core.tools import QueryEngineTool, ToolMetadata\n",
    "from llama_index.core import VectorStoreIndex"
   ]
  },
  {
   "cell_type": "code",
   "execution_count": null,
   "id": "526dc6bc-8fb8-4a7f-ad5a-d9d854a8327c",
   "metadata": {},
   "outputs": [],
   "source": [
    "phase_index = vector_index.as_query_engine(\n",
    "    filters=MetadataFilters(\n",
    "        filters=[\n",
    "            MetadataFilter(key=\"phase\", operator=FilterOperator.NE, value=\"None\")\n",
    "        ],\n",
    "    ),\n",
    ")\n",
    "\n",
    "batting_engine = vector_index.as_query_engine(\n",
    "    filters=MetadataFilters(\n",
    "        filters=[\n",
    "            MetadataFilter(key=\"batsman\", operator=FilterOperator.NE, value=\"None\")\n",
    "        ],\n",
    "    ),\n",
    ")\n",
    "    \n",
    "bowling_engine = vector_index.as_query_engine(\n",
    "    filters=MetadataFilters(\n",
    "        filters=[\n",
    "            MetadataFilter(key=\"bowler\", operator=FilterOperator.NE, value=\"None\")\n",
    "        ],\n",
    "    ),\n",
    ")\n",
    "\n",
    "wicket_engine = vector_index.as_query_engine(\n",
    "    filters=MetadataFilters(\n",
    "        filters=[\n",
    "            MetadataFilter(key=\"is_wicket\", operator=FilterOperator.EQ, value=\"True\"),\n",
    "            MetadataFilter(key=\"is_wicket\", operator=FilterOperator.EQ, value=1)\n",
    "        ],\n",
    "        condition=FilterCondition.OR\n",
    "    ),\n",
    ")\n",
    "\n",
    "team_engine = vector_index.as_query_engine(\n",
    "    filters=MetadataFilters(\n",
    "        filters=[\n",
    "            MetadataFilter(key=\"bowling_team\", operator=FilterOperator.NE, value=\"\"),\n",
    "            MetadataFilter(key=\"batting_team\", operator=FilterOperator.NE, value=\"\")\n",
    "        ],\n",
    "        condition=FilterCondition.AND\n",
    "    ),\n",
    ")\n",
    "\n",
    "boundary_engine = vector_index.as_query_engine(\n",
    "    filters=MetadataFilters(\n",
    "        filters=[\n",
    "            MetadataFilter(key=\"boundary\", operator=FilterOperator.EQ, value=\"True\"),\n",
    "            MetadataFilter(key=\"boundary\", operator=FilterOperator.EQ, value=1),\n",
    "        ],\n",
    "        condition=FilterCondition.OR\n",
    "    ),\n",
    ")\n",
    "\n",
    "tools = [\n",
    "    QueryEngineTool.from_defaults(\n",
    "        query_engine=phase_index,\n",
    "        name=\"phase_analysis\",\n",
    "        description=\"Useful for answering questions about IPL cricket match phases like powerplay, middle overs, or death overs\"\n",
    "    ),\n",
    "    QueryEngineTool.from_defaults(\n",
    "        query_engine=batting_engine,\n",
    "        name=\"batsman_performance\",\n",
    "        description=\"Useful for answering questions about individual batsman's performance, runs scored, boundaries, wickets, and overall statistics across matches or specific innings.\"\n",
    "    ),\n",
    "    QueryEngineTool.from_defaults(\n",
    "        query_engine=bowling_engine,\n",
    "        name=\"bowling_performance\",\n",
    "        description=\"Useful for answering questions about individual bowler's performance, wickets taken, runs conceded, and overall statistics across matches or specific innings. \"\n",
    "    ),\n",
    "     QueryEngineTool.from_defaults(\n",
    "        query_engine=wicket_engine,\n",
    "        name=\"dismissals\",\n",
    "        description=\"Useful for answering questions about wickets/dismisalla for batsmen or bowler across matches or specific innings.\"\n",
    "    ),\n",
    "    QueryEngineTool.from_defaults(\n",
    "        query_engine=team_engine,\n",
    "        name=\"opposition team\",\n",
    "        description=\"Useful for answering questions about opposition team specific\"\n",
    "    ),\n",
    "    QueryEngineTool.from_defaults(\n",
    "        query_engine=boundary_engine,\n",
    "        name=\"Boundary\",\n",
    "        description=\"Useful for answering questions about boundaries\"\n",
    "    )\n",
    "]\n",
    "\n",
    "\n",
    "query_engine = RouterQueryEngine(\n",
    "    selector=LLMMultiSelector.from_defaults(\n",
    "        llm=Settings.llm\n",
    "    ),\n",
    "    query_engine_tools=tools,\n",
    "    verbose=True\n",
    ")"
   ]
  },
  {
   "cell_type": "code",
   "execution_count": null,
   "id": "315df9b6-09d4-4a32-88a6-cce1371df6a8",
   "metadata": {},
   "outputs": [],
   "source": [
    "response = query_engine.query(\"Where to bowl to virat kohli in death overs so that he does not score boundary\")"
   ]
  },
  {
   "cell_type": "code",
   "execution_count": null,
   "id": "764fbeeb-f34d-4309-97d2-687f7f4761aa",
   "metadata": {},
   "outputs": [],
   "source": [
    "response"
   ]
  },
  {
   "cell_type": "code",
   "execution_count": null,
   "id": "b61c4c0d-7bcb-4219-8d01-b077378d19ad",
   "metadata": {},
   "outputs": [],
   "source": []
  }
 ],
 "metadata": {
  "kernelspec": {
   "display_name": "Python 3 (ipykernel)",
   "language": "python",
   "name": "python3"
  },
  "language_info": {
   "codemirror_mode": {
    "name": "ipython",
    "version": 3
   },
   "file_extension": ".py",
   "mimetype": "text/x-python",
   "name": "python",
   "nbconvert_exporter": "python",
   "pygments_lexer": "ipython3",
   "version": "3.12.7"
  }
 },
 "nbformat": 4,
 "nbformat_minor": 5
}
